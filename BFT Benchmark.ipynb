{
 "cells": [
  {
   "cell_type": "markdown",
   "id": "a29fe094",
   "metadata": {},
   "source": [
    "# Benchmark Results"
   ]
  },
  {
   "cell_type": "code",
   "execution_count": 36,
   "id": "bb42e4d3",
   "metadata": {},
   "outputs": [],
   "source": [
    "import pandas as pd\n",
    "import seaborn as sns\n",
    "from matplotlib import pyplot as plt\n",
    "from scipy import stats"
   ]
  },
  {
   "cell_type": "code",
   "execution_count": 28,
   "id": "94a9d758",
   "metadata": {},
   "outputs": [],
   "source": [
    "bft = pd.read_excel('bft.xlsx')\n",
    "bft.columns = ['Id', 'Team', 'Gender', 'flat_bench_press', 'trap_bar_deadlift']"
   ]
  },
  {
   "cell_type": "code",
   "execution_count": 29,
   "id": "84da3ea5",
   "metadata": {},
   "outputs": [
    {
     "data": {
      "text/html": [
       "<div>\n",
       "<style scoped>\n",
       "    .dataframe tbody tr th:only-of-type {\n",
       "        vertical-align: middle;\n",
       "    }\n",
       "\n",
       "    .dataframe tbody tr th {\n",
       "        vertical-align: top;\n",
       "    }\n",
       "\n",
       "    .dataframe thead th {\n",
       "        text-align: right;\n",
       "    }\n",
       "</style>\n",
       "<table border=\"1\" class=\"dataframe\">\n",
       "  <thead>\n",
       "    <tr style=\"text-align: right;\">\n",
       "      <th></th>\n",
       "      <th>Id</th>\n",
       "      <th>Team</th>\n",
       "      <th>Gender</th>\n",
       "      <th>flat_bench_press</th>\n",
       "      <th>trap_bar_deadlift</th>\n",
       "    </tr>\n",
       "  </thead>\n",
       "  <tbody>\n",
       "    <tr>\n",
       "      <th>0</th>\n",
       "      <td>1</td>\n",
       "      <td>H</td>\n",
       "      <td>Male</td>\n",
       "      <td>60.0</td>\n",
       "      <td>109</td>\n",
       "    </tr>\n",
       "    <tr>\n",
       "      <th>1</th>\n",
       "      <td>2</td>\n",
       "      <td>H</td>\n",
       "      <td>Male</td>\n",
       "      <td>100.0</td>\n",
       "      <td>194</td>\n",
       "    </tr>\n",
       "    <tr>\n",
       "      <th>2</th>\n",
       "      <td>3</td>\n",
       "      <td>H</td>\n",
       "      <td>Female</td>\n",
       "      <td>30.0</td>\n",
       "      <td>94</td>\n",
       "    </tr>\n",
       "    <tr>\n",
       "      <th>3</th>\n",
       "      <td>4</td>\n",
       "      <td>H</td>\n",
       "      <td>Female</td>\n",
       "      <td>25.0</td>\n",
       "      <td>69</td>\n",
       "    </tr>\n",
       "    <tr>\n",
       "      <th>4</th>\n",
       "      <td>5</td>\n",
       "      <td>H</td>\n",
       "      <td>Male</td>\n",
       "      <td>35.0</td>\n",
       "      <td>94</td>\n",
       "    </tr>\n",
       "  </tbody>\n",
       "</table>\n",
       "</div>"
      ],
      "text/plain": [
       "   Id Team  Gender  flat_bench_press  trap_bar_deadlift\n",
       "0   1    H    Male              60.0                109\n",
       "1   2    H    Male             100.0                194\n",
       "2   3    H  Female              30.0                 94\n",
       "3   4    H  Female              25.0                 69\n",
       "4   5    H    Male              35.0                 94"
      ]
     },
     "execution_count": 29,
     "metadata": {},
     "output_type": "execute_result"
    }
   ],
   "source": [
    "female = bft[bft.Gender == 'Female']\n",
    "male = bft[bft.Gender == 'Male']\n",
    "bft.head()"
   ]
  },
  {
   "cell_type": "markdown",
   "id": "ced0f475",
   "metadata": {},
   "source": [
    "# Participants"
   ]
  },
  {
   "cell_type": "code",
   "execution_count": 30,
   "id": "388907ce",
   "metadata": {},
   "outputs": [
    {
     "data": {
      "image/png": "[encoded data removed]",
      "text/plain": [
       "<Figure size 432x288 with 1 Axes>"
      ]
     },
     "metadata": {
      "needs_background": "light"
     },
     "output_type": "display_data"
    },
    {
     "name": "stdout",
     "output_type": "stream",
     "text": [
      "More females than male participants.\n"
     ]
    },
    {
     "data": {
      "text/html": [
       "<div>\n",
       "<style scoped>\n",
       "    .dataframe tbody tr th:only-of-type {\n",
       "        vertical-align: middle;\n",
       "    }\n",
       "\n",
       "    .dataframe tbody tr th {\n",
       "        vertical-align: top;\n",
       "    }\n",
       "\n",
       "    .dataframe thead th {\n",
       "        text-align: right;\n",
       "    }\n",
       "</style>\n",
       "<table border=\"1\" class=\"dataframe\">\n",
       "  <thead>\n",
       "    <tr style=\"text-align: right;\">\n",
       "      <th></th>\n",
       "      <th>Gender</th>\n",
       "      <th>Count</th>\n",
       "    </tr>\n",
       "  </thead>\n",
       "  <tbody>\n",
       "    <tr>\n",
       "      <th>0</th>\n",
       "      <td>Female</td>\n",
       "      <td>39</td>\n",
       "    </tr>\n",
       "    <tr>\n",
       "      <th>1</th>\n",
       "      <td>Male</td>\n",
       "      <td>32</td>\n",
       "    </tr>\n",
       "  </tbody>\n",
       "</table>\n",
       "</div>"
      ],
      "text/plain": [
       "   Gender  Count\n",
       "0  Female     39\n",
       "1    Male     32"
      ]
     },
     "execution_count": 30,
     "metadata": {},
     "output_type": "execute_result"
    }
   ],
   "source": [
    "sns.countplot(x='Gender', data=bft)\n",
    "plt.show()\n",
    "gender_count = bft.groupby('Gender').Id.count().reset_index()\n",
    "gender_count.rename(columns={'Id':'Count'}, inplace=True)\n",
    "print('More females than male participants.')\n",
    "gender_count"
   ]
  },
  {
   "cell_type": "code",
   "execution_count": 31,
   "id": "be05dcbe",
   "metadata": {},
   "outputs": [
    {
     "data": {
      "image/png": "[encoded data removed]",
      "text/plain": [
       "<Figure size 432x288 with 1 Axes>"
      ]
     },
     "metadata": {
      "needs_background": "light"
     },
     "output_type": "display_data"
    },
    {
     "name": "stdout",
     "output_type": "stream",
     "text": [
      "Distribution of females and males amongst teams.\n"
     ]
    },
    {
     "data": {
      "text/html": [
       "<div>\n",
       "<style scoped>\n",
       "    .dataframe tbody tr th:only-of-type {\n",
       "        vertical-align: middle;\n",
       "    }\n",
       "\n",
       "    .dataframe tbody tr th {\n",
       "        vertical-align: top;\n",
       "    }\n",
       "\n",
       "    .dataframe thead th {\n",
       "        text-align: right;\n",
       "    }\n",
       "</style>\n",
       "<table border=\"1\" class=\"dataframe\">\n",
       "  <thead>\n",
       "    <tr style=\"text-align: right;\">\n",
       "      <th>Gender</th>\n",
       "      <th>Female</th>\n",
       "      <th>Male</th>\n",
       "    </tr>\n",
       "    <tr>\n",
       "      <th>Team</th>\n",
       "      <th></th>\n",
       "      <th></th>\n",
       "    </tr>\n",
       "  </thead>\n",
       "  <tbody>\n",
       "    <tr>\n",
       "      <th>H</th>\n",
       "      <td>7</td>\n",
       "      <td>11</td>\n",
       "    </tr>\n",
       "    <tr>\n",
       "      <th>J1</th>\n",
       "      <td>7</td>\n",
       "      <td>11</td>\n",
       "    </tr>\n",
       "    <tr>\n",
       "      <th>J2</th>\n",
       "      <td>12</td>\n",
       "      <td>5</td>\n",
       "    </tr>\n",
       "    <tr>\n",
       "      <th>S</th>\n",
       "      <td>13</td>\n",
       "      <td>5</td>\n",
       "    </tr>\n",
       "  </tbody>\n",
       "</table>\n",
       "</div>"
      ],
      "text/plain": [
       "Gender  Female  Male\n",
       "Team                \n",
       "H            7    11\n",
       "J1           7    11\n",
       "J2          12     5\n",
       "S           13     5"
      ]
     },
     "execution_count": 31,
     "metadata": {},
     "output_type": "execute_result"
    }
   ],
   "source": [
    "sns.countplot(x='Team', data=bft, hue='Gender', palette={'Male':'Blue', 'Female':'Red'}, alpha=0.6)\n",
    "plt.show()\n",
    "team_count = bft.groupby(['Team', 'Gender']).Id.count().reset_index()\n",
    "team_count.rename(columns={'Id':'Count'}, inplace=True)\n",
    "team_pivot = team_count.pivot(columns='Gender', index='Team',values='Count')\n",
    "print('Distribution of females and males amongst teams.')\n",
    "team_pivot"
   ]
  },
  {
   "cell_type": "markdown",
   "id": "a4e55715",
   "metadata": {},
   "source": [
    "# Flat Bench Press"
   ]
  },
  {
   "cell_type": "code",
   "execution_count": 32,
   "id": "a0f51f29",
   "metadata": {},
   "outputs": [
    {
     "data": {
      "image/png": "[encoded data removed]",
      "text/plain": [
       "<Figure size 432x288 with 1 Axes>"
      ]
     },
     "metadata": {
      "needs_background": "light"
     },
     "output_type": "display_data"
    },
    {
     "name": "stdout",
     "output_type": "stream",
     "text": [
      "The female mean for flat bench press is 27.3 kg.\n",
      "The male mean for flat bench press is 56.6 kg.\n"
     ]
    }
   ],
   "source": [
    "plt.hist(female.flat_bench_press, range=(20, 37.5), bins=6, alpha=0.6, color='red')\n",
    "plt.hist(male.flat_bench_press, range=(30, 100), bins=6, alpha=0.6, color='blue')\n",
    "plt.title('Flat Bench Press - Male v.s Female')\n",
    "plt.xlabel('Weight in kg')\n",
    "plt.legend(['Female', 'Male'])\n",
    "plt.axvline(female.flat_bench_press.mean(), color='DarkRed', linestyle='dashed', linewidth=1)\n",
    "plt.axvline(male.flat_bench_press.mean(), color='MediumBlue', linestyle='dashed', linewidth=1)\n",
    "plt.show()\n",
    "\n",
    "print('The female mean for flat bench press is ' + str(round(female.flat_bench_press.mean(),1)) + ' kg.')\n",
    "print('The male mean for flat bench press is ' + str(round(male.flat_bench_press.mean(),1)) + ' kg.')"
   ]
  },
  {
   "cell_type": "markdown",
   "id": "15974924",
   "metadata": {},
   "source": [
    "# Trap Bar Deadlift"
   ]
  },
  {
   "cell_type": "code",
   "execution_count": 33,
   "id": "16c96c35",
   "metadata": {},
   "outputs": [
    {
     "data": {
      "image/png": "[encoded data removed]",
      "text/plain": [
       "<Figure size 432x288 with 1 Axes>"
      ]
     },
     "metadata": {
      "needs_background": "light"
     },
     "output_type": "display_data"
    },
    {
     "name": "stdout",
     "output_type": "stream",
     "text": [
      "The female mean for trap bar deadlift is 66.9 kg.\n",
      "The male mean for trap bar deadlift is 109.8 kg.\n"
     ]
    }
   ],
   "source": [
    "plt.hist(female.trap_bar_deadlift, range=(25, 200), bins=20, alpha=0.6, color='red')\n",
    "plt.hist(male.trap_bar_deadlift, range=(50, 200), bins=9, alpha=0.6, color='blue')\n",
    "plt.title('Trap Bar Deadlift - Male v.s Female')\n",
    "plt.xlabel('Weight in kg')\n",
    "plt.legend(['Female', 'Male'])\n",
    "plt.axvline(female.trap_bar_deadlift.mean(), color='DarkRed', linestyle='dashed', linewidth=1)\n",
    "plt.axvline(male.trap_bar_deadlift.mean(), color='MediumBlue', linestyle='dashed', linewidth=1)\n",
    "plt.show()\n",
    "\n",
    "print('The female mean for trap bar deadlift is ' + str(round(female.trap_bar_deadlift.mean(),1)) + ' kg.')\n",
    "print('The male mean for trap bar deadlift is ' + str(round(male.trap_bar_deadlift.mean(),1)) + ' kg.')"
   ]
  },
  {
   "cell_type": "markdown",
   "id": "a16f1441",
   "metadata": {},
   "source": [
    "# Team Performance"
   ]
  },
  {
   "cell_type": "code",
   "execution_count": 34,
   "id": "9e982ea6",
   "metadata": {},
   "outputs": [
    {
     "data": {
      "image/png": "[encoded data removed]",
      "text/plain": [
       "<Figure size 720x288 with 2 Axes>"
      ]
     },
     "metadata": {
      "needs_background": "light"
     },
     "output_type": "display_data"
    }
   ],
   "source": [
    "# Flat Bench Press \n",
    "plt.figure(figsize=(10,4))\n",
    "plt.subplot(1,2,1)\n",
    "sns.boxplot(x='Team', y='flat_bench_press', data=male, palette='Blues',\\\n",
    "           medianprops=dict(color=\"Blue\", alpha=1))\n",
    "plt.title('Flat Bench Press by Team - Males')\n",
    "plt.ylabel('Weight in kg')\n",
    "\n",
    "plt.subplot(1,2,2)\n",
    "sns.boxplot(x='Team', y='flat_bench_press', data=female, palette='Reds',\\\n",
    "           medianprops=dict(color=\"Red\", alpha=1))\n",
    "plt.title('Flat Bench Press by Team - Females')\n",
    "plt.ylabel('Weight in kg')\n",
    "\n",
    "plt.subplots_adjust(wspace=0.3)\n",
    "plt.show()"
   ]
  },
  {
   "cell_type": "code",
   "execution_count": 35,
   "id": "1a0f5883",
   "metadata": {},
   "outputs": [
    {
     "data": {
      "image/png": "[encoded data removed]",
      "text/plain": [
       "<Figure size 720x288 with 2 Axes>"
      ]
     },
     "metadata": {
      "needs_background": "light"
     },
     "output_type": "display_data"
    }
   ],
   "source": [
    "# Trap Bar Deadlift\n",
    "plt.figure(figsize=(10,4))\n",
    "plt.subplot(1,2,1)\n",
    "sns.boxplot(x='Team', y='trap_bar_deadlift', data=male, palette='Blues',\\\n",
    "           medianprops=dict(color=\"Blue\", alpha=1))\n",
    "plt.title('Trap Bar Deadlift by Team - Males')\n",
    "plt.ylabel('Weight in kg')\n",
    "\n",
    "plt.subplot(1,2,2)\n",
    "sns.boxplot(x='Team', y='trap_bar_deadlift', data=female, palette='Reds',\\\n",
    "           medianprops=dict(color=\"Red\", alpha=1))\n",
    "plt.title('Trap Bar Deadlift by Team - Females')\n",
    "plt.ylabel('Weight in kg')\n",
    "\n",
    "plt.subplots_adjust(wspace=0.3)\n",
    "plt.show()"
   ]
  },
  {
   "cell_type": "markdown",
   "id": "ef509c1e",
   "metadata": {},
   "source": [
    "# Percentile Checker\n",
    "To check your percentile, use the function percentile_checker(). The arguments in order should be:\n",
    "* Benchpress weight\n",
    "* Deadlift weight\n",
    "* Your gender in quotation marks, e.g. 'Female' or 'Male'.\n",
    "\n",
    "For example, if I were a female and I lift 20kg and 74kg for my bench press and deadlift respectively:\n",
    "\n",
    "percentile_checker(20, 74, 'Female')."
   ]
  },
  {
   "cell_type": "code",
   "execution_count": 56,
   "id": "e13a9b84",
   "metadata": {},
   "outputs": [],
   "source": [
    "def percentile_checker(benchpress, deadlift, gender):\n",
    "    if gender == 'Female':\n",
    "        benchpress_percentile = round(stats.percentileofscore(female.flat_bench_press, benchpress))\n",
    "        deadlift_percentile = round(stats.percentileofscore(female.trap_bar_deadlift, deadlift))\n",
    "        print('You are in the ' + str(benchpress_percentile) + 'th percentile for flat bench press (female).')\n",
    "        print('You are in the ' + str(deadlift_percentile) + 'th percentile for trap bar deadlift (female).')\n",
    "    else:\n",
    "        benchpress_percentile = round(stats.percentileofscore(male.flat_bench_press, benchpress))\n",
    "        deadlift_percentile = round(stats.percentileofscore(male.trap_bar_deadlift, deadlift))\n",
    "        print('You are in the ' + str(benchpress_percentile) + 'th percentile for flat bench press (male).')\n",
    "        print('You are in the ' + str(deadlift_percentile) + 'th percentile for trap bar deadlift (male).')"
   ]
  },
  {
   "cell_type": "code",
   "execution_count": 52,
   "id": "70dde7f3",
   "metadata": {},
   "outputs": [
    {
     "name": "stdout",
     "output_type": "stream",
     "text": [
      "You are in the 13th percentile for flat bench press (female).\n",
      "You are in the 72th percentile for trap bar deadlift (female).\n"
     ]
    }
   ],
   "source": [
    "percentile_checker(20, 74, 'Female')"
   ]
  }
 ],
 "metadata": {
  "kernelspec": {
   "display_name": "Python 3 (ipykernel)",
   "language": "python",
   "name": "python3"
  },
  "language_info": {
   "codemirror_mode": {
    "name": "ipython",
    "version": 3
   },
   "file_extension": ".py",
   "mimetype": "text/x-python",
   "name": "python",
   "nbconvert_exporter": "python",
   "pygments_lexer": "ipython3",
   "version": "3.9.12"
  }
 },
 "nbformat": 4,
 "nbformat_minor": 5
}
